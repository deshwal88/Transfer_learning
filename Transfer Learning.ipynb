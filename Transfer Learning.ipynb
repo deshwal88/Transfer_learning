{
 "cells": [
  {
   "cell_type": "code",
   "execution_count": 1,
   "metadata": {},
   "outputs": [],
   "source": [
    "import tensorflow as tf\n",
    "import tensorflow.keras as keras\n",
    "import numpy as np\n",
    "import matplotlib.pyplot as plt\n",
    "import os\n",
    "import re\n",
    "from sklearn.preprocessing import LabelEncoder\n",
    "%matplotlib inline"
   ]
  },
  {
   "cell_type": "markdown",
   "metadata": {},
   "source": [
    "### Data"
   ]
  },
  {
   "cell_type": "markdown",
   "metadata": {},
   "source": [
    "The dataset contains thousands of images of buildings, forests, glaciers and seas, 4 classes. Out of which <1000 images are selected to train the model. "
   ]
  },
  {
   "cell_type": "markdown",
   "metadata": {},
   "source": [
    "Classes :-"
   ]
  },
  {
   "cell_type": "code",
   "execution_count": 2,
   "metadata": {},
   "outputs": [
    {
     "data": {
      "text/plain": [
       "['buildings', 'forest', 'glacier', 'sea']"
      ]
     },
     "execution_count": 2,
     "metadata": {},
     "output_type": "execute_result"
    }
   ],
   "source": [
    "os.listdir('./seg_train/')"
   ]
  },
  {
   "cell_type": "markdown",
   "metadata": {},
   "source": [
    "Loading data from local storage"
   ]
  },
  {
   "cell_type": "code",
   "execution_count": 3,
   "metadata": {},
   "outputs": [],
   "source": [
    "from PIL import Image\n",
    "pxl_size=(200,200)\n",
    "path='./seg_train/'"
   ]
  },
  {
   "cell_type": "markdown",
   "metadata": {},
   "source": [
    "Defining reading functions"
   ]
  },
  {
   "cell_type": "code",
   "execution_count": 4,
   "metadata": {},
   "outputs": [],
   "source": [
    "def read_data(batch_size,path,pxl_size):\n",
    "    labels=os.listdir(path)\n",
    "    le=LabelEncoder()\n",
    "    le.fit(labels)\n",
    "    max_pts=1000\n",
    "    for i in range(0,(max_pts//batch_size)):\n",
    "        x_data=np.zeros((batch_size,pxl_size[1],pxl_size[0],3))\n",
    "        length=batch_size//4\n",
    "        p=0\n",
    "        y_data=[]\n",
    "        \n",
    "        for j in range(0,4):\n",
    "            rel_path=os.path.join(path,labels[j])\n",
    "            for k in range(i*length,(i+1)*length):\n",
    "                img=Image.open(rel_path+'/'+os.listdir(rel_path)[k]).resize(pxl_size)\n",
    "                x_data[p,:,]=np.array(img)/255.0\n",
    "                y_data.append(labels[j])\n",
    "                p+=1\n",
    "                \n",
    "        y_data=le.transform(y_data)\n",
    "        ind=np.random.permutation(batch_size)\n",
    "        x_data=x_data[ind,]\n",
    "        y_data=y_data[ind]\n",
    "        yield (x_data,y_data)"
   ]
  },
  {
   "cell_type": "markdown",
   "metadata": {},
   "source": [
    "### Working with created model"
   ]
  },
  {
   "cell_type": "markdown",
   "metadata": {},
   "source": [
    "Loading created CNN model trained upon images of cats and dogs."
   ]
  },
  {
   "cell_type": "code",
   "execution_count": 5,
   "metadata": {},
   "outputs": [
    {
     "name": "stdout",
     "output_type": "stream",
     "text": [
      "Model: \"CNN\"\n",
      "_________________________________________________________________\n",
      "Layer (type)                 Output Shape              Param #   \n",
      "=================================================================\n",
      "conv2d (Conv2D)              (None, 99, 99, 32)        1568      \n",
      "_________________________________________________________________\n",
      "max_pooling2d (MaxPooling2D) (None, 33, 33, 32)        0         \n",
      "_________________________________________________________________\n",
      "conv2d_1 (Conv2D)            (None, 33, 33, 64)        32832     \n",
      "_________________________________________________________________\n",
      "max_pooling2d_1 (MaxPooling2 (None, 11, 11, 64)        0         \n",
      "_________________________________________________________________\n",
      "conv2d_2 (Conv2D)            (None, 11, 11, 128)       73856     \n",
      "_________________________________________________________________\n",
      "conv2d_3 (Conv2D)            (None, 11, 11, 128)       147584    \n",
      "_________________________________________________________________\n",
      "max_pooling2d_2 (MaxPooling2 (None, 3, 3, 128)         0         \n",
      "_________________________________________________________________\n",
      "Flatten (Flatten)            (None, 1152)              0         \n",
      "_________________________________________________________________\n",
      "Dense_1 (Dense)              (None, 1000)              1153000   \n",
      "_________________________________________________________________\n",
      "dropout (Dropout)            (None, 1000)              0         \n",
      "_________________________________________________________________\n",
      "Dense_2 (Dense)              (None, 500)               500500    \n",
      "_________________________________________________________________\n",
      "dropout_1 (Dropout)          (None, 500)               0         \n",
      "_________________________________________________________________\n",
      "Output (Dense)               (None, 2)                 1002      \n",
      "=================================================================\n",
      "Total params: 1,910,342\n",
      "Trainable params: 1,910,342\n",
      "Non-trainable params: 0\n",
      "_________________________________________________________________\n"
     ]
    }
   ],
   "source": [
    "model=keras.models.load_model('CNN_model.h5')\n",
    "model.summary()"
   ]
  },
  {
   "cell_type": "markdown",
   "metadata": {},
   "source": [
    "Removing unnecessary layers"
   ]
  },
  {
   "cell_type": "code",
   "execution_count": 6,
   "metadata": {},
   "outputs": [
    {
     "name": "stdout",
     "output_type": "stream",
     "text": [
      "Model: \"CNN\"\n",
      "_________________________________________________________________\n",
      "Layer (type)                 Output Shape              Param #   \n",
      "=================================================================\n",
      "conv2d (Conv2D)              (None, 99, 99, 32)        1568      \n",
      "_________________________________________________________________\n",
      "max_pooling2d (MaxPooling2D) (None, 33, 33, 32)        0         \n",
      "_________________________________________________________________\n",
      "conv2d_1 (Conv2D)            (None, 33, 33, 64)        32832     \n",
      "_________________________________________________________________\n",
      "max_pooling2d_1 (MaxPooling2 (None, 11, 11, 64)        0         \n",
      "_________________________________________________________________\n",
      "conv2d_2 (Conv2D)            (None, 11, 11, 128)       73856     \n",
      "_________________________________________________________________\n",
      "conv2d_3 (Conv2D)            (None, 11, 11, 128)       147584    \n",
      "_________________________________________________________________\n",
      "max_pooling2d_2 (MaxPooling2 (None, 3, 3, 128)         0         \n",
      "_________________________________________________________________\n",
      "Flatten (Flatten)            (None, 1152)              0         \n",
      "=================================================================\n",
      "Total params: 255,840\n",
      "Trainable params: 255,840\n",
      "Non-trainable params: 0\n",
      "_________________________________________________________________\n"
     ]
    }
   ],
   "source": [
    "model.pop()\n",
    "model.pop()\n",
    "model.pop()\n",
    "model.pop()\n",
    "model.pop()\n",
    "model.summary()"
   ]
  },
  {
   "cell_type": "code",
   "execution_count": 7,
   "metadata": {},
   "outputs": [
    {
     "data": {
      "text/plain": [
       "[]"
      ]
     },
     "execution_count": 7,
     "metadata": {},
     "output_type": "execute_result"
    }
   ],
   "source": [
    "for layer in model.layers:\n",
    "    layer.trainable=False\n",
    "model.trainable_variables"
   ]
  },
  {
   "cell_type": "markdown",
   "metadata": {},
   "source": [
    "Adding necessary layers"
   ]
  },
  {
   "cell_type": "code",
   "execution_count": 8,
   "metadata": {},
   "outputs": [],
   "source": [
    "h0=keras.layers.BatchNormalization()\n",
    "h1=keras.layers.Dense(800)\n",
    "h2=keras.layers.Dropout(0.2)\n",
    "h3=keras.layers.Dense(400)\n",
    "h4=keras.layers.Dropout(0.2)\n",
    "final_layer=keras.layers.Dense(4,activation='softmax')"
   ]
  },
  {
   "cell_type": "markdown",
   "metadata": {},
   "source": [
    "Assembling the model"
   ]
  },
  {
   "cell_type": "code",
   "execution_count": 9,
   "metadata": {},
   "outputs": [],
   "source": [
    "model.add(h0)\n",
    "model.add(h1)\n",
    "model.add(h2)\n",
    "model.add(h3)\n",
    "model.add(h4)\n",
    "model.add(final_layer)"
   ]
  },
  {
   "cell_type": "code",
   "execution_count": 10,
   "metadata": {},
   "outputs": [
    {
     "name": "stdout",
     "output_type": "stream",
     "text": [
      "Model: \"CNN\"\n",
      "_________________________________________________________________\n",
      "Layer (type)                 Output Shape              Param #   \n",
      "=================================================================\n",
      "conv2d (Conv2D)              (None, 99, 99, 32)        1568      \n",
      "_________________________________________________________________\n",
      "max_pooling2d (MaxPooling2D) (None, 33, 33, 32)        0         \n",
      "_________________________________________________________________\n",
      "conv2d_1 (Conv2D)            (None, 33, 33, 64)        32832     \n",
      "_________________________________________________________________\n",
      "max_pooling2d_1 (MaxPooling2 (None, 11, 11, 64)        0         \n",
      "_________________________________________________________________\n",
      "conv2d_2 (Conv2D)            (None, 11, 11, 128)       73856     \n",
      "_________________________________________________________________\n",
      "conv2d_3 (Conv2D)            (None, 11, 11, 128)       147584    \n",
      "_________________________________________________________________\n",
      "max_pooling2d_2 (MaxPooling2 (None, 3, 3, 128)         0         \n",
      "_________________________________________________________________\n",
      "Flatten (Flatten)            (None, 1152)              0         \n",
      "_________________________________________________________________\n",
      "batch_normalization (BatchNo (None, 1152)              4608      \n",
      "_________________________________________________________________\n",
      "dense (Dense)                (None, 800)               922400    \n",
      "_________________________________________________________________\n",
      "dropout (Dropout)            (None, 800)               0         \n",
      "_________________________________________________________________\n",
      "dense_1 (Dense)              (None, 400)               320400    \n",
      "_________________________________________________________________\n",
      "dropout_1 (Dropout)          (None, 400)               0         \n",
      "_________________________________________________________________\n",
      "dense_2 (Dense)              (None, 4)                 1604      \n",
      "=================================================================\n",
      "Total params: 1,504,852\n",
      "Trainable params: 1,246,708\n",
      "Non-trainable params: 258,144\n",
      "_________________________________________________________________\n"
     ]
    }
   ],
   "source": [
    "model.summary()"
   ]
  },
  {
   "cell_type": "code",
   "execution_count": 11,
   "metadata": {},
   "outputs": [],
   "source": [
    "model.compile('adam','sparse_categorical_crossentropy',['accuracy'])"
   ]
  },
  {
   "cell_type": "markdown",
   "metadata": {},
   "source": [
    "### Training"
   ]
  },
  {
   "cell_type": "code",
   "execution_count": 12,
   "metadata": {},
   "outputs": [
    {
     "name": "stdout",
     "output_type": "stream",
     "text": [
      "25/25 [==============================] - 11s 370ms/step - loss: 1.1432 - accuracy: 0.6254\n",
      "25/25 [==============================] - 9s 380ms/step - loss: 0.5299 - accuracy: 0.8200\n",
      "25/25 [==============================] - 9s 383ms/step - loss: 0.3762 - accuracy: 0.8610\n",
      "25/25 [==============================] - 9s 380ms/step - loss: 0.2851 - accuracy: 0.8910\n"
     ]
    }
   ],
   "source": [
    "batch_size=40\n",
    "epochs=4\n",
    "for e in range(0,epochs):\n",
    "    gen=read_data(batch_size,path,pxl_size)\n",
    "    model.fit(gen,batch_size=batch_size,epochs=1)\n",
    "\n",
    "keras.models.save_model(model,'Tranfer_learning.h5',save_format='h5')"
   ]
  },
  {
   "cell_type": "markdown",
   "metadata": {},
   "source": [
    "### Testing"
   ]
  },
  {
   "cell_type": "code",
   "execution_count": 13,
   "metadata": {},
   "outputs": [],
   "source": [
    "def accuracy(n):\n",
    "    gen=read_data(n,path,pxl_size)\n",
    "    x,y=gen.__next__()\n",
    "    y_pred=np.argmax(model(x),axis=1)\n",
    "    error=sum(np.not_equal(y,y_pred))/n\n",
    "    print(f'Error===>{error}')\n",
    "    print('Accuracy using transfer learning==>',(1-error)*100)"
   ]
  },
  {
   "cell_type": "code",
   "execution_count": 14,
   "metadata": {},
   "outputs": [
    {
     "name": "stdout",
     "output_type": "stream",
     "text": [
      "Error===>0.124\n",
      "Accuracy using transfer learning==> 87.6\n"
     ]
    }
   ],
   "source": [
    "accuracy(500)"
   ]
  }
 ],
 "metadata": {
  "kernelspec": {
   "display_name": "Python 3",
   "language": "python",
   "name": "python3"
  },
  "language_info": {
   "codemirror_mode": {
    "name": "ipython",
    "version": 3
   },
   "file_extension": ".py",
   "mimetype": "text/x-python",
   "name": "python",
   "nbconvert_exporter": "python",
   "pygments_lexer": "ipython3",
   "version": "3.8.0"
  }
 },
 "nbformat": 4,
 "nbformat_minor": 4
}
